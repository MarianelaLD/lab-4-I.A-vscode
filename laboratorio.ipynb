{
 "cells": [
  {
   "cell_type": "code",
   "execution_count": 62,
   "metadata": {},
   "outputs": [],
   "source": [
    "import numpy as np\n",
    "import neurolab as nl\n",
    "import random\n",
    "from PIL import Image\n",
    "import os\n",
    "import re"
   ]
  },
  {
   "cell_type": "code",
   "execution_count": 40,
   "metadata": {},
   "outputs": [],
   "source": [
    "def mat2vec(x):\n",
    "    m = x.shape[0]*x.shape[1]\n",
    "    tmp1 = np.zeros(m)\n",
    "\n",
    "    c = 0\n",
    "    for i in range(x.shape[0]):\n",
    "        for j in range(x.shape[1]):\n",
    "            tmp1[c] = x[i,j]\n",
    "            c +=1\n",
    "    return tmp1"
   ]
  },
  {
   "cell_type": "code",
   "execution_count": 41,
   "metadata": {},
   "outputs": [],
   "source": [
    "def readImg2array(file,size, threshold= 145):\n",
    "    pilIN = Image.open(file).convert(mode=\"L\")\n",
    "    pilIN= pilIN.resize(size)\n",
    "    #pilIN.thumbnail(size,Image.ANTIALIAS)\n",
    "    imgArray = np.asarray(pilIN,dtype=np.uint8)\n",
    "    x = np.zeros(imgArray.shape,dtype=float)\n",
    "    x[imgArray > threshold] = 1\n",
    "    x[x==0] = -1\n",
    "    return x"
   ]
  },
  {
   "cell_type": "code",
   "execution_count": 42,
   "metadata": {},
   "outputs": [],
   "source": [
    "def array2img(data, outFile = None):\n",
    "    #data is 1 or -1 matrix\n",
    "    y = np.zeros(data.shape,dtype=np.uint8)\n",
    "    y[data==1] = 255\n",
    "    y[data==-1] = 0\n",
    "    img = Image.fromarray(y,mode=\"L\")\n",
    "    if outFile is not None:\n",
    "        img.save(outFile)\n",
    "    return img"
   ]
  },
  {
   "cell_type": "code",
   "execution_count": 52,
   "metadata": {},
   "outputs": [
    {
     "data": {
      "text/plain": [
       "['c:\\\\Users\\\\nicco\\\\Desktop\\\\lab-4-I.A-vscode/target_pics/A.jpg',\n",
       " 'c:\\\\Users\\\\nicco\\\\Desktop\\\\lab-4-I.A-vscode/target_pics/B.jpg',\n",
       " 'c:\\\\Users\\\\nicco\\\\Desktop\\\\lab-4-I.A-vscode/target_pics/I.jpg',\n",
       " 'c:\\\\Users\\\\nicco\\\\Desktop\\\\lab-4-I.A-vscode/target_pics/T.jpg',\n",
       " 'c:\\\\Users\\\\nicco\\\\Desktop\\\\lab-4-I.A-vscode/target_pics/Y.jpg']"
      ]
     },
     "execution_count": 52,
     "metadata": {},
     "output_type": "execute_result"
    }
   ],
   "source": [
    "current_path = os.getcwd()\n",
    "path = current_path+\"/train/\"\n",
    "train_paths = []\n",
    "names = []\n",
    "\n",
    "for i in os.listdir(path):\n",
    "    if re.match(r'..jpg',i):\n",
    "        train_paths.append(path+i)\n",
    "\n",
    "for path in train_paths:\n",
    "    name = path.split(\"/\")[-1].split(\".\")[0]\n",
    "    names.append(name)\n",
    "\n",
    "train_paths\n"
   ]
  },
  {
   "cell_type": "code",
   "execution_count": 63,
   "metadata": {},
   "outputs": [],
   "source": [
    "size = (100,100)\n",
    "threshold = 60\n",
    "train = []\n",
    "\n",
    "for path in train_paths:\n",
    "    x = readImg2array(path,size,threshold)\n",
    "    x = mat2vec(x)\n",
    "    train.append(x)\n",
    "\n",
    "train = np.array(train)"
   ]
  },
  {
   "cell_type": "code",
   "execution_count": 64,
   "metadata": {},
   "outputs": [],
   "source": [
    "net = nl.net.newhop(train)\n",
    "#,transf= nl.trans.HardLims()"
   ]
  },
  {
   "cell_type": "code",
   "execution_count": 65,
   "metadata": {},
   "outputs": [
    {
     "ename": "FileNotFoundError",
     "evalue": "[Errno 2] No such file or directory: 'c:\\\\Users\\\\nicco\\\\Desktop\\\\lab-4-I.A-vscode/test_pics/A.jpg'",
     "output_type": "error",
     "traceback": [
      "\u001b[1;31m---------------------------------------------------------------------------\u001b[0m",
      "\u001b[1;31mFileNotFoundError\u001b[0m                         Traceback (most recent call last)",
      "Cell \u001b[1;32mIn [65], line 11\u001b[0m\n\u001b[0;32m      9\u001b[0m     image_noisy[noise] \u001b[39m=\u001b[39m \u001b[39m-\u001b[39mimage_noisy[noise]\n\u001b[0;32m     10\u001b[0m     test\u001b[39m.\u001b[39mappend(image_noisy)\n\u001b[1;32m---> 11\u001b[0m     array2img(image_noisy\u001b[39m.\u001b[39;49mreshape(size),outFile \u001b[39m=\u001b[39;49m target_paths[i]\u001b[39m.\u001b[39;49mreplace(\u001b[39m\"\u001b[39;49m\u001b[39mtarget\u001b[39;49m\u001b[39m\"\u001b[39;49m,\u001b[39m\"\u001b[39;49m\u001b[39mtest\u001b[39;49m\u001b[39m\"\u001b[39;49m))\n\u001b[0;32m     13\u001b[0m test \u001b[39m=\u001b[39m np\u001b[39m.\u001b[39marray(test)\n",
      "Cell \u001b[1;32mIn [42], line 8\u001b[0m, in \u001b[0;36marray2img\u001b[1;34m(data, outFile)\u001b[0m\n\u001b[0;32m      6\u001b[0m img \u001b[39m=\u001b[39m Image\u001b[39m.\u001b[39mfromarray(y,mode\u001b[39m=\u001b[39m\u001b[39m\"\u001b[39m\u001b[39mL\u001b[39m\u001b[39m\"\u001b[39m)\n\u001b[0;32m      7\u001b[0m \u001b[39mif\u001b[39;00m outFile \u001b[39mis\u001b[39;00m \u001b[39mnot\u001b[39;00m \u001b[39mNone\u001b[39;00m:\n\u001b[1;32m----> 8\u001b[0m     img\u001b[39m.\u001b[39;49msave(outFile)\n\u001b[0;32m      9\u001b[0m \u001b[39mreturn\u001b[39;00m img\n",
      "File \u001b[1;32mc:\\Users\\nicco\\AppData\\Local\\Programs\\Python\\Python311\\Lib\\site-packages\\PIL\\Image.py:2350\u001b[0m, in \u001b[0;36mImage.save\u001b[1;34m(self, fp, format, **params)\u001b[0m\n\u001b[0;32m   2348\u001b[0m         fp \u001b[39m=\u001b[39m builtins\u001b[39m.\u001b[39mopen(filename, \u001b[39m\"\u001b[39m\u001b[39mr+b\u001b[39m\u001b[39m\"\u001b[39m)\n\u001b[0;32m   2349\u001b[0m     \u001b[39melse\u001b[39;00m:\n\u001b[1;32m-> 2350\u001b[0m         fp \u001b[39m=\u001b[39m builtins\u001b[39m.\u001b[39mopen(filename, \u001b[39m\"\u001b[39m\u001b[39mw+b\u001b[39m\u001b[39m\"\u001b[39m)\n\u001b[0;32m   2352\u001b[0m \u001b[39mtry\u001b[39;00m:\n\u001b[0;32m   2353\u001b[0m     save_handler(\u001b[39mself\u001b[39m, fp, filename)\n",
      "\u001b[1;31mFileNotFoundError\u001b[0m: [Errno 2] No such file or directory: 'c:\\\\Users\\\\nicco\\\\Desktop\\\\lab-4-I.A-vscode/test_pics/A.jpg'"
     ]
    }
   ],
   "source": [
    "noise_percent = 0.1\n",
    "test = []\n",
    "rango = range(0,size[0]*size[1])\n",
    "noise_level = round((rango[-1]+1)*noise_percent)\n",
    "\n",
    "for i in range (len(train)):\n",
    "    noise = random.sample(rango, noise_level)\n",
    "    image_noisy = train[i].copy()\n",
    "    image_noisy[noise] = -image_noisy[noise]\n",
    "    test.append(image_noisy)\n",
    "    array2img(image_noisy.reshape(size),outFile = train_paths[i].replace(\"train\",\"test\"))\n",
    "\n",
    "test = np.array(test)"
   ]
  },
  {
   "cell_type": "code",
   "execution_count": 60,
   "metadata": {},
   "outputs": [
    {
     "name": "stdout",
     "output_type": "stream",
     "text": [
      "A :  [ True  True  True ...  True  True  True] Sim. steps 2\n",
      "B :  [ True  True  True ...  True  True  True] Sim. steps 2\n",
      "I :  [ True  True  True ...  True  True  True] Sim. steps 2\n",
      "T :  [ True  True  True ...  True  True  True] Sim. steps 2\n",
      "Y :  [ True  True  True ...  True  True  True] Sim. steps 2\n"
     ]
    }
   ],
   "source": [
    "output_train = net.sim(train)\n",
    "\n",
    "for i in range(len(output_train)):\n",
    "    print(names[i], \": \", (output_train[i] == train[i]).all(), 'Sim. steps', len(net.layers[0].outs))\n",
    "    array2img(output_train[i].reshape(size),outFile = \"./output/\"+names[i]+\"_train.jpg\")\n"
   ]
  },
  {
   "cell_type": "code",
   "execution_count": 59,
   "metadata": {},
   "outputs": [
    {
     "name": "stdout",
     "output_type": "stream",
     "text": [
      "A :  False Sim. steps 2\n",
      "B :  False Sim. steps 2\n",
      "I :  False Sim. steps 2\n",
      "T :  False Sim. steps 2\n",
      "Y :  False Sim. steps 2\n"
     ]
    }
   ],
   "source": [
    "output_test = net.sim(test)\n",
    "\n",
    "for i in range(len(output_train)):\n",
    "    print(names[i],\": \",(output_test[i] == train[i]).all(), 'Sim. steps', len(net.layers[0].outs))\n",
    "    array2img(output_test[i].reshape(size),outFile = \"./output/\"+names[i]+\"_test.jpg\")\n"
   ]
  }
 ],
 "metadata": {
  "kernelspec": {
   "display_name": "Python 3.11.0 64-bit",
   "language": "python",
   "name": "python3"
  },
  "language_info": {
   "codemirror_mode": {
    "name": "ipython",
    "version": 3
   },
   "file_extension": ".py",
   "mimetype": "text/x-python",
   "name": "python",
   "nbconvert_exporter": "python",
   "pygments_lexer": "ipython3",
   "version": "3.11.0"
  },
  "orig_nbformat": 4,
  "vscode": {
   "interpreter": {
    "hash": "c6c045ef0996861ad244e6c006a55533e09a06cec27df88aad00fda9e8b2bb8d"
   }
  }
 },
 "nbformat": 4,
 "nbformat_minor": 2
}
