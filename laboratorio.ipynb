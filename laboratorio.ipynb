{
 "cells": [
  {
   "cell_type": "code",
   "execution_count": 1,
   "metadata": {},
   "outputs": [],
   "source": [
    "import numpy as np\n",
    "import neurolab as nl\n",
    "import random\n",
    "from PIL import Image\n",
    "import os\n",
    "import re"
   ]
  },
  {
   "cell_type": "code",
   "execution_count": 2,
   "metadata": {},
   "outputs": [],
   "source": [
    "def mat2vec(x):\n",
    "    m = x.shape[0]*x.shape[1]\n",
    "    tmp1 = np.zeros(m)\n",
    "\n",
    "    c = 0\n",
    "    for i in range(x.shape[0]):\n",
    "        for j in range(x.shape[1]):\n",
    "            tmp1[c] = x[i,j]\n",
    "            c +=1\n",
    "    return tmp1"
   ]
  },
  {
   "cell_type": "code",
   "execution_count": 3,
   "metadata": {},
   "outputs": [],
   "source": [
    "def readImg2array(file,size, threshold= 145):\n",
    "    pilIN = Image.open(file).convert(mode=\"L\")\n",
    "    pilIN= pilIN.resize(size)\n",
    "    #pilIN.thumbnail(size,Image.ANTIALIAS)\n",
    "    imgArray = np.asarray(pilIN,dtype=np.uint8)\n",
    "    x = np.zeros(imgArray.shape,dtype=float)\n",
    "    x[imgArray > threshold] = 1\n",
    "    x[x==0] = -1\n",
    "    return x"
   ]
  },
  {
   "cell_type": "code",
   "execution_count": 4,
   "metadata": {},
   "outputs": [],
   "source": [
    "def array2img(data, outFile = None):\n",
    "    #data is 1 or -1 matrix\n",
    "    y = np.zeros(data.shape,dtype=np.uint8)\n",
    "    y[data==1] = 255\n",
    "    y[data==-1] = 0\n",
    "    img = Image.fromarray(y,mode=\"L\")\n",
    "    if outFile is not None:\n",
    "        img.save(outFile)\n",
    "    return img"
   ]
  },
  {
   "cell_type": "code",
   "execution_count": 5,
   "metadata": {},
   "outputs": [
    {
     "data": {
      "text/plain": [
       "['c:\\\\Users\\\\nicco\\\\Desktop\\\\lab-4-I.A-vscode/train/A.jpg',\n",
       " 'c:\\\\Users\\\\nicco\\\\Desktop\\\\lab-4-I.A-vscode/train/B.jpg',\n",
       " 'c:\\\\Users\\\\nicco\\\\Desktop\\\\lab-4-I.A-vscode/train/I.jpg',\n",
       " 'c:\\\\Users\\\\nicco\\\\Desktop\\\\lab-4-I.A-vscode/train/T.jpg',\n",
       " 'c:\\\\Users\\\\nicco\\\\Desktop\\\\lab-4-I.A-vscode/train/Y.jpg']"
      ]
     },
     "execution_count": 5,
     "metadata": {},
     "output_type": "execute_result"
    }
   ],
   "source": [
    "current_path = os.getcwd()\n",
    "path = current_path+\"/train/\"\n",
    "train_paths = []\n",
    "names = []\n",
    "\n",
    "for i in os.listdir(path):\n",
    "    if re.match(r'..jpg',i):\n",
    "        train_paths.append(path+i)\n",
    "\n",
    "for path in train_paths:\n",
    "    name = path.split(\"/\")[-1].split(\".\")[0]\n",
    "    names.append(name)\n",
    "\n",
    "train_paths\n"
   ]
  },
  {
   "cell_type": "code",
   "execution_count": 21,
   "metadata": {},
   "outputs": [],
   "source": [
    "size = (100,100)\n",
    "threshold = 250\n",
    "train = []\n",
    "\n",
    "for path in train_paths:\n",
    "    x = readImg2array(path,size,threshold)\n",
    "    x = mat2vec(x)\n",
    "    train.append(x)\n",
    "\n",
    "train = np.array(train)"
   ]
  },
  {
   "cell_type": "code",
   "execution_count": 7,
   "metadata": {},
   "outputs": [],
   "source": [
    "net = nl.net.newhop(train)\n",
    "#,transf= nl.trans.HardLims()"
   ]
  },
  {
   "cell_type": "code",
   "execution_count": 8,
   "metadata": {},
   "outputs": [],
   "source": [
    "noise_percent = 0.1\n",
    "rango = range(0,size[0]*size[1])\n",
    "noise_level = round((rango[-1]+1)*noise_percent)\n",
    "test = []\n",
    "\n",
    "for i in range (len(train)):\n",
    "    noise = random.sample(rango, noise_level)\n",
    "    image_noisy = train[i].copy()\n",
    "    image_noisy[noise] = -image_noisy[noise]\n",
    "    test.append(image_noisy)\n",
    "    array2img(image_noisy.reshape(size),outFile = train_paths[i].replace(\"train\",\"test\"))\n",
    "\n",
    "test = np.array(test)"
   ]
  },
  {
   "cell_type": "code",
   "execution_count": 9,
   "metadata": {},
   "outputs": [
    {
     "name": "stdout",
     "output_type": "stream",
     "text": [
      "A :  False Sim. steps 2\n",
      "B :  False Sim. steps 2\n",
      "I :  False Sim. steps 2\n",
      "T :  False Sim. steps 2\n",
      "Y :  False Sim. steps 2\n"
     ]
    }
   ],
   "source": [
    "output_train = net.sim(train)\n",
    "\n",
    "for i in range(len(output_train)):\n",
    "    print(names[i], \": \", (output_train[i] == train[i]).all(), 'Sim. steps', len(net.layers[0].outs))\n",
    "    array2img(output_train[i].reshape(size),outFile = \"./output/\"+names[i]+\"_train.jpg\")\n"
   ]
  },
  {
   "cell_type": "code",
   "execution_count": 10,
   "metadata": {},
   "outputs": [
    {
     "name": "stdout",
     "output_type": "stream",
     "text": [
      "A :  False Sim. steps 2\n",
      "B :  False Sim. steps 2\n",
      "I :  False Sim. steps 2\n",
      "T :  False Sim. steps 2\n",
      "Y :  False Sim. steps 2\n"
     ]
    }
   ],
   "source": [
    "output_test = net.sim(test)\n",
    "\n",
    "for i in range(len(output_train)):\n",
    "    print(names[i],\": \",(output_test[i] == train[i]).all(), 'Sim. steps', len(net.layers[0].outs))\n",
    "    array2img(output_test[i].reshape(size),outFile = \"./output/\"+names[i]+\"_test.jpg\")\n"
   ]
  }
 ],
 "metadata": {
  "kernelspec": {
   "display_name": "Python 3.11.0 64-bit",
   "language": "python",
   "name": "python3"
  },
  "language_info": {
   "codemirror_mode": {
    "name": "ipython",
    "version": 3
   },
   "file_extension": ".py",
   "mimetype": "text/x-python",
   "name": "python",
   "nbconvert_exporter": "python",
   "pygments_lexer": "ipython3",
   "version": "3.11.0"
  },
  "orig_nbformat": 4,
  "vscode": {
   "interpreter": {
    "hash": "c6c045ef0996861ad244e6c006a55533e09a06cec27df88aad00fda9e8b2bb8d"
   }
  }
 },
 "nbformat": 4,
 "nbformat_minor": 2
}
